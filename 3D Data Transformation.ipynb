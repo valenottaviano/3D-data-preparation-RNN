{
 "cells": [
  {
   "cell_type": "markdown",
   "id": "90034ea4",
   "metadata": {},
   "source": [
    "## 3D Data Transformation for further modeling"
   ]
  },
  {
   "cell_type": "code",
   "execution_count": 19,
   "id": "664f6c9e",
   "metadata": {},
   "outputs": [],
   "source": [
    "import numpy as np\n",
    "import seaborn as sns\n",
    "import matplotlib.pyplot as plt"
   ]
  },
  {
   "cell_type": "code",
   "execution_count": 6,
   "id": "5eb2fc42",
   "metadata": {},
   "outputs": [],
   "source": [
    "def split_sequence (sequence, n_steps):\n",
    "    X, y = list(), list()\n",
    "    for i in range(len(sequence)):\n",
    "        #find the end of the pattern\n",
    "        end_ix = i + n_steps\n",
    "        #check if we are beyond the sequence\n",
    "        if end_ix > len(sequence)-1:\n",
    "            break\n",
    "        seq_x, seq_y = sequence[i:end_ix], sequence[end_ix]\n",
    "        \n",
    "        X.append(seq_x)\n",
    "        y.append(seq_y)\n",
    "    return np.array(X), np.array(y)"
   ]
  },
  {
   "cell_type": "code",
   "execution_count": 8,
   "id": "b14b6f30",
   "metadata": {},
   "outputs": [
    {
     "name": "stdout",
     "output_type": "stream",
     "text": [
      "(9,)\n",
      "(6, 3) (6,)\n",
      "-------------------\n",
      "[1 2 3] 4\n",
      "[2 3 4] 5\n",
      "[3 4 5] 6\n",
      "[4 5 6] 7\n",
      "[5 6 7] 8\n",
      "[6 7 8] 9\n"
     ]
    }
   ],
   "source": [
    "series = np.array([1,2,3,4,5,6,7,8,9])\n",
    "print(series.shape)\n",
    "\n",
    "X, y = split_sequence(series, 3)\n",
    "print(X.shape, y.shape)\n",
    "\n",
    "\n",
    "print('-------------------')\n",
    "for i in range(len(X)):\n",
    "    print(X[i], y[i])"
   ]
  },
  {
   "cell_type": "code",
   "execution_count": 39,
   "id": "241b59fa",
   "metadata": {},
   "outputs": [
    {
     "data": {
      "text/plain": [
       "(6, 3, 1)"
      ]
     },
     "execution_count": 39,
     "metadata": {},
     "output_type": "execute_result"
    }
   ],
   "source": [
    "X = X.reshape((X.shape[0], X.shape[1], 1))\n",
    "X.shape"
   ]
  },
  {
   "cell_type": "markdown",
   "id": "0fdabf72",
   "metadata": {},
   "source": [
    "We've reached the 3 Dimentional shape needed for an LSTM Model"
   ]
  },
  {
   "cell_type": "markdown",
   "id": "fcbe3d41",
   "metadata": {},
   "source": [
    "# Multilayer Perceptrons"
   ]
  },
  {
   "cell_type": "markdown",
   "id": "f6465575",
   "metadata": {},
   "source": [
    "### 1. Data preparation"
   ]
  },
  {
   "cell_type": "code",
   "execution_count": 9,
   "id": "081a2537",
   "metadata": {},
   "outputs": [
    {
     "name": "stdout",
     "output_type": "stream",
     "text": [
      "[10, 20, 30, 40, 50, 60, 70, 80, 90, 100, 110, 120, 130, 140, 150, 160, 170, 180, 190, 200]\n"
     ]
    }
   ],
   "source": [
    "sequence = list()\n",
    "for i in range(10,210,10):\n",
    "    sequence.append(i)\n",
    "print(sequence)"
   ]
  },
  {
   "cell_type": "code",
   "execution_count": 12,
   "id": "9e16b043",
   "metadata": {},
   "outputs": [
    {
     "name": "stdout",
     "output_type": "stream",
     "text": [
      "[10 20 30] 40\n",
      "[20 30 40] 50\n",
      "[30 40 50] 60\n",
      "[40 50 60] 70\n",
      "[50 60 70] 80\n",
      "[60 70 80] 90\n",
      "[70 80 90] 100\n",
      "[ 80  90 100] 110\n",
      "[ 90 100 110] 120\n",
      "[100 110 120] 130\n",
      "[110 120 130] 140\n",
      "[120 130 140] 150\n",
      "[130 140 150] 160\n",
      "[140 150 160] 170\n",
      "[150 160 170] 180\n",
      "[160 170 180] 190\n",
      "[170 180 190] 200\n"
     ]
    }
   ],
   "source": [
    "n_steps = 3\n",
    "X, y = split_sequence(sequence, n_steps)\n",
    "\n",
    "for i in range(len(X)):\n",
    "    print(X[i], y[i])"
   ]
  },
  {
   "cell_type": "markdown",
   "id": "355049c9",
   "metadata": {},
   "source": [
    "### 2. Multilayer Perceptron Model"
   ]
  },
  {
   "cell_type": "code",
   "execution_count": 44,
   "id": "2d1f5c74",
   "metadata": {},
   "outputs": [],
   "source": [
    "from tensorflow.keras import Sequential\n",
    "from tensorflow.keras.layers import Dense\n",
    "\n",
    "mlp_model = Sequential()\n",
    "mlp_model.add(Dense(100, activation='relu', input_dim=n_steps))\n",
    "mlp_model.add(Dense(1))\n",
    "mlp_model.compile(optimizer='adam', loss='mse')\n",
    "\n",
    "mlp_history = mlp_model.fit(X, y , epochs=200, verbose=0)"
   ]
  },
  {
   "cell_type": "code",
   "execution_count": 45,
   "id": "ced9d278",
   "metadata": {},
   "outputs": [
    {
     "name": "stdout",
     "output_type": "stream",
     "text": [
      "[[180 190 200]] [[219.18059]]\n"
     ]
    }
   ],
   "source": [
    "x_inputs = np.array([180,190,200])\n",
    "x_inputs = x_inputs.reshape((1, n_steps))\n",
    "\n",
    "yhat = mlp_model.predict(x_inputs)\n",
    "\n",
    "print(x_inputs, yhat)"
   ]
  }
 ],
 "metadata": {
  "kernelspec": {
   "display_name": "Python 3 (ipykernel)",
   "language": "python",
   "name": "python3"
  },
  "language_info": {
   "codemirror_mode": {
    "name": "ipython",
    "version": 3
   },
   "file_extension": ".py",
   "mimetype": "text/x-python",
   "name": "python",
   "nbconvert_exporter": "python",
   "pygments_lexer": "ipython3",
   "version": "3.9.7"
  }
 },
 "nbformat": 4,
 "nbformat_minor": 5
}

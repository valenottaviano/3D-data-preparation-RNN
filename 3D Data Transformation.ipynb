{
 "cells": [
  {
   "cell_type": "markdown",
   "id": "21e70dcf",
   "metadata": {},
   "source": [
    "## 3D Data Transformation for further modeling"
   ]
  },
  {
   "cell_type": "code",
   "execution_count": 19,
   "id": "664f6c9e",
   "metadata": {},
   "outputs": [],
   "source": [
    "import numpy as np\n",
    "import seaborn as sns\n",
    "import matplotlib.pyplot as plt"
   ]
  },
  {
   "cell_type": "code",
   "execution_count": 6,
   "id": "5eb2fc42",
   "metadata": {},
   "outputs": [],
   "source": [
    "def split_sequence (sequence, n_steps):\n",
    "    X, y = list(), list()\n",
    "    for i in range(len(sequence)):\n",
    "        #find the end of the pattern\n",
    "        end_ix = i + n_steps\n",
    "        #check if we are beyond the sequence\n",
    "        if end_ix > len(sequence)-1:\n",
    "            break\n",
    "        seq_x, seq_y = sequence[i:end_ix], sequence[end_ix]\n",
    "        \n",
    "        X.append(seq_x)\n",
    "        y.append(seq_y)\n",
    "    return np.array(X), np.array(y)"
   ]
  },
  {
   "cell_type": "code",
   "execution_count": 8,
   "id": "b14b6f30",
   "metadata": {},
   "outputs": [
    {
     "name": "stdout",
     "output_type": "stream",
     "text": [
      "(9,)\n",
      "(6, 3) (6,)\n",
      "-------------------\n",
      "[1 2 3] 4\n",
      "[2 3 4] 5\n",
      "[3 4 5] 6\n",
      "[4 5 6] 7\n",
      "[5 6 7] 8\n",
      "[6 7 8] 9\n"
     ]
    }
   ],
   "source": [
    "series = np.array([1,2,3,4,5,6,7,8,9])\n",
    "print(series.shape)\n",
    "\n",
    "X, y = split_sequence(series, 3)\n",
    "print(X.shape, y.shape)\n",
    "\n",
    "\n",
    "print('-------------------')\n",
    "for i in range(len(X)):\n",
    "    print(X[i], y[i])"
   ]
  },
  {
   "cell_type": "code",
   "execution_count": 39,
   "id": "241b59fa",
   "metadata": {},
   "outputs": [
    {
     "data": {
      "text/plain": [
       "(6, 3, 1)"
      ]
     },
     "execution_count": 39,
     "metadata": {},
     "output_type": "execute_result"
    }
   ],
   "source": [
    "X = X.reshape((X.shape[0], X.shape[1], 1))\n",
    "X.shape"
   ]
  },
  {
   "cell_type": "markdown",
   "id": "0fdabf72",
   "metadata": {},
   "source": [
    "We've reached the 3 Dimentional shape needed for an LSTM Model"
   ]
  },
  {
   "cell_type": "markdown",
   "id": "5dfa2059",
   "metadata": {},
   "source": [
    "# Multilayer Perceptrons"
   ]
  },
  {
   "cell_type": "markdown",
   "id": "08119920",
   "metadata": {},
   "source": [
    "### 1. Data preparation"
   ]
  },
  {
   "cell_type": "code",
   "execution_count": 62,
   "id": "081a2537",
   "metadata": {},
   "outputs": [
    {
     "name": "stdout",
     "output_type": "stream",
     "text": [
      "[10, 20, 30, 40, 50, 60, 70, 80, 90]\n"
     ]
    }
   ],
   "source": [
    "sequence = list()\n",
    "for i in range(10,100,10):\n",
    "    sequence.append(i)\n",
    "print(sequence)"
   ]
  },
  {
   "cell_type": "code",
   "execution_count": 63,
   "id": "9e16b043",
   "metadata": {
    "scrolled": true
   },
   "outputs": [
    {
     "name": "stdout",
     "output_type": "stream",
     "text": [
      "[10 20 30] 40\n",
      "[20 30 40] 50\n",
      "[30 40 50] 60\n",
      "[40 50 60] 70\n",
      "[50 60 70] 80\n",
      "[60 70 80] 90\n"
     ]
    }
   ],
   "source": [
    "n_steps = 3\n",
    "X, y = split_sequence(sequence, n_steps)\n",
    "\n",
    "for i in range(len(X)):\n",
    "    print(X[i], y[i])"
   ]
  },
  {
   "cell_type": "markdown",
   "id": "1e774369",
   "metadata": {},
   "source": [
    "### 2. Multilayer Perceptron Model"
   ]
  },
  {
   "cell_type": "code",
   "execution_count": 64,
   "id": "d57112e1",
   "metadata": {},
   "outputs": [],
   "source": [
    "from tensorflow.keras import Sequential\n",
    "from tensorflow.keras.layers import Dense\n",
    "\n",
    "mlp_model = Sequential()\n",
    "mlp_model.add(Dense(100, activation='relu', input_dim=n_steps))\n",
    "mlp_model.add(Dense(1))\n",
    "mlp_model.compile(optimizer='adam', loss='mse')\n",
    "\n",
    "mlp_history = mlp_model.fit(X, y , epochs=200, verbose=0)"
   ]
  },
  {
   "cell_type": "markdown",
   "id": "62a2adde",
   "metadata": {},
   "source": [
    "#### Let's predict some values"
   ]
  },
  {
   "cell_type": "code",
   "execution_count": 66,
   "id": "f7708de5",
   "metadata": {},
   "outputs": [
    {
     "name": "stdout",
     "output_type": "stream",
     "text": [
      "[[70 80 90]] [[108.84377]]\n"
     ]
    }
   ],
   "source": [
    "x_inputs = np.array([70,80,90])\n",
    "x_inputs = x_inputs.reshape((1, n_steps))\n",
    "\n",
    "yhat = mlp_model.predict(x_inputs)\n",
    "\n",
    "# Predictions of the model\n",
    "print(x_inputs, yhat)"
   ]
  },
  {
   "cell_type": "markdown",
   "id": "61fd6b7a",
   "metadata": {},
   "source": [
    "## Convolutional Neural Network (CNN)"
   ]
  },
  {
   "cell_type": "code",
   "execution_count": 67,
   "id": "9af7da8f",
   "metadata": {},
   "outputs": [],
   "source": [
    "from tensorflow.keras import Sequential\n",
    "from tensorflow.keras.layers import Dense\n",
    "from tensorflow.keras.layers import Conv1D\n",
    "from tensorflow.keras.layers import Flatten\n",
    "from tensorflow.keras.layers import MaxPooling1D"
   ]
  },
  {
   "cell_type": "markdown",
   "id": "da4bdc29",
   "metadata": {},
   "source": [
    "### 1. Data preparation"
   ]
  },
  {
   "cell_type": "code",
   "execution_count": 68,
   "id": "04c8bf1c",
   "metadata": {},
   "outputs": [
    {
     "name": "stdout",
     "output_type": "stream",
     "text": [
      "[10 20 30] 40\n",
      "[20 30 40] 50\n",
      "[30 40 50] 60\n",
      "[40 50 60] 70\n",
      "[50 60 70] 80\n",
      "[60 70 80] 90\n"
     ]
    }
   ],
   "source": [
    "sequence = list()\n",
    "for i in range(10,100,10):\n",
    "    sequence.append(i)\n",
    "\n",
    "n_steps = 3\n",
    "n_features = 1\n",
    "X, y = split_sequence(sequence, n_steps)\n",
    "\n",
    "for i in range(len(X)):\n",
    "    print(X[i], y[i])"
   ]
  },
  {
   "cell_type": "markdown",
   "id": "6a02ccbf",
   "metadata": {},
   "source": [
    "### 2. CNN Model"
   ]
  },
  {
   "cell_type": "code",
   "execution_count": 69,
   "id": "d14c50db",
   "metadata": {},
   "outputs": [],
   "source": [
    "cnn_model = Sequential()\n",
    "cnn_model.add(Conv1D(filters=64, kernel_size=2, activation='relu', input_shape=(n_steps, n_features)))\n",
    "cnn_model.add(MaxPooling1D(pool_size=2))\n",
    "cnn_model.add(Flatten())\n",
    "cnn_model.add(Dense(50, activation='relu'))\n",
    "cnn_model.add(Dense(1))\n",
    "cnn_model.compile(optimizer='adam', loss='mse')"
   ]
  },
  {
   "cell_type": "code",
   "execution_count": 70,
   "id": "a319be10",
   "metadata": {},
   "outputs": [],
   "source": [
    "X = X.reshape((X.shape[0], X.shape[1], n_features))"
   ]
  },
  {
   "cell_type": "code",
   "execution_count": 71,
   "id": "a5bf847d",
   "metadata": {},
   "outputs": [
    {
     "data": {
      "text/plain": [
       "<keras.callbacks.History at 0x7f78ccfa4070>"
      ]
     },
     "execution_count": 71,
     "metadata": {},
     "output_type": "execute_result"
    }
   ],
   "source": [
    "cnn_model.fit(X, y, epochs=1000, verbose=0)"
   ]
  },
  {
   "cell_type": "code",
   "execution_count": 77,
   "id": "9365b080",
   "metadata": {},
   "outputs": [
    {
     "name": "stdout",
     "output_type": "stream",
     "text": [
      "[[[70]\n",
      "  [80]\n",
      "  [90]]] [[102.05795]]\n"
     ]
    }
   ],
   "source": [
    "x_inputs = np.array([70,80,90])\n",
    "x_inputs = x_inputs.reshape((1, n_steps, n_features))\n",
    "\n",
    "yhat = cnn_model.predict(x_inputs)\n",
    "print(np.array(x_inputs), yhat)"
   ]
  }
 ],
 "metadata": {
  "kernelspec": {
   "display_name": "Python 3 (ipykernel)",
   "language": "python",
   "name": "python3"
  },
  "language_info": {
   "codemirror_mode": {
    "name": "ipython",
    "version": 3
   },
   "file_extension": ".py",
   "mimetype": "text/x-python",
   "name": "python",
   "nbconvert_exporter": "python",
   "pygments_lexer": "ipython3",
   "version": "3.9.7"
  }
 },
 "nbformat": 4,
 "nbformat_minor": 5
}
